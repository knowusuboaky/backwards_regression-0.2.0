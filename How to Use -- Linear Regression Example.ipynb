{
 "cells": [
  {
   "cell_type": "markdown",
   "metadata": {},
   "source": [
    "# Linear Regression Example"
   ]
  },
  {
   "cell_type": "markdown",
   "metadata": {},
   "source": [
    "## Installation"
   ]
  },
  {
   "cell_type": "markdown",
   "metadata": {},
   "source": [
    "### Package"
   ]
  },
  {
   "cell_type": "code",
   "execution_count": 1,
   "metadata": {},
   "outputs": [],
   "source": [
    "## Install Library \n",
    "#!pip install backwards_regression==0.2.0 \n",
    "\n",
    "#https://pypi.org/project/backwards-regression/"
   ]
  },
  {
   "cell_type": "code",
   "execution_count": 2,
   "metadata": {},
   "outputs": [],
   "source": [
    "## Load up Library\n",
    "from backwards_regression import fit_linear_regression"
   ]
  },
  {
   "cell_type": "markdown",
   "metadata": {},
   "source": [
    "### Format of Code"
   ]
  },
  {
   "cell_type": "code",
   "execution_count": 3,
   "metadata": {},
   "outputs": [],
   "source": [
    "#result, dropped_vars = fit_linear_regression(\n",
    "    #X,  # The DataFrame containing the predictor variables.\n",
    "    #y,  # The response variable, typically a Series or a one-dimensional array.\n",
    "    #initial_list=[],  # Optional. A list of initial variables to consider. If empty, all variables in X are used.\n",
    "    #threshold_in=0.01,  # The significance level for adding variables to the model. Variables with p-values lower than this threshold will be considered.\n",
    "    #threshold_out=0.05,  # The significance level for removing variables from the model. Variables with p-values higher than this threshold will be removed.\n",
    "    #include_interactions=True,  # Whether to consider interaction terms between variables. If True, interaction terms are evaluated and added if significant.\n",
    "    #verbose=True,  # Controls the verbosity of the output. If True, logs detailed information about the regression process.\n",
    "    #method='bfgs'  # The optimization method used in fitting the logistic regression model. Default is 'bfgs', but can be changed to other methods like 'newton', 'nm', etc.\n",
    "#):\n",
    "    # Function body...\n",
    "# method can be \n",
    "        # 'bfgs': Broyden–Fletcher–Goldfarb–Shanno algorithm - Good default choice, handles a wide range of problems well.\n",
    "        # 'newton': Newton-Raphson method - Uses first and second derivatives, efficient for well-behaved problems.\n",
    "        # 'nm': Nelder-Mead simplex algorithm - Derivative-free, robust, suitable for problems where derivatives are unreliable.\n",
    "        # 'cg': Conjugate Gradient - Good for large-scale problems, an iterative method that requires careful tuning.\n",
    "        # 'ncg': Newton-Conjugate Gradient - Combines Newton-Raphson and Conjugate Gradient, efficient for large-scale problems.\n",
    "        # 'lbfgs': Limited-memory BFGS - Suitable for problems with a large number of parameters, uses limited memory.\n",
    "        # 'powell': Powell’s method - A derivative-free optimizer, robust but potentially slower than gradient-based methods.\n"
   ]
  },
  {
   "cell_type": "markdown",
   "metadata": {},
   "source": [
    "## Linear Regression"
   ]
  },
  {
   "cell_type": "markdown",
   "metadata": {},
   "source": [
    "### Data Exploration"
   ]
  },
  {
   "cell_type": "code",
   "execution_count": 4,
   "metadata": {},
   "outputs": [],
   "source": [
    "## Sample Data\n",
    "\n",
    "import pandas as pd\n",
    "import numpy as np\n",
    "\n",
    "# Set a random seed for reproducibility\n",
    "np.random.seed(42)\n",
    "\n",
    "# Generate synthetic financial data for linear regression\n",
    "def generate_financial_data(n=1000):\n",
    "    # Features\n",
    "    age = np.random.normal(40, 10, n)\n",
    "    income = np.random.normal(50000, 10000, n)\n",
    "    savings = np.random.normal(20000, 5000, n)\n",
    "    debt = np.random.normal(10000, 3000, n)\n",
    "    credit_score = np.random.normal(700, 50, n)\n",
    "\n",
    "    # Additional variables\n",
    "    assets = np.random.normal(30000, 8000, n)\n",
    "    liabilities = np.random.normal(12000, 4000, n)\n",
    "    monthly_expenses = np.random.normal(4000, 1000, n)\n",
    "\n",
    "    # Generate a linear relationship with some noise\n",
    "    target = 0.5 * age + 0.2 * income - 0.3 * savings + 0.1 * debt + 0.15 * credit_score + np.random.normal(0, 5, n)\n",
    "\n",
    "    # Create DataFrame\n",
    "    data = pd.DataFrame({\n",
    "        'Age': age,\n",
    "        'Income': income,\n",
    "        'Savings': savings,\n",
    "        'Debt': debt,\n",
    "        'CreditScore': credit_score,\n",
    "        'Assets': assets,\n",
    "        'Liabilities': liabilities,\n",
    "        'MonthlyExpenses': monthly_expenses,\n",
    "        'Target': target\n",
    "    })\n",
    "\n",
    "    return data\n",
    "\n",
    "# Generate financial dataset for linear regression\n",
    "financial_df = generate_financial_data()\n"
   ]
  },
  {
   "cell_type": "code",
   "execution_count": 5,
   "metadata": {},
   "outputs": [
    {
     "name": "stdout",
     "output_type": "stream",
     "text": [
      "Features (X):\n",
      "         Age        Income       Savings          Debt  CreditScore  \\\n",
      "0  44.967142  63993.554366  16624.108625   4276.577326   656.825320   \n",
      "1  38.617357  59246.336829  19277.406646   7418.844968   698.439826   \n",
      "2  46.476885  50596.303699  16037.900395   8759.183400   700.900844   \n",
      "3  55.230299  43530.632223  18460.192352  15663.062972   723.631517   \n",
      "4  37.658466  56982.233136  10531.926665  11669.659374   631.657082   \n",
      "\n",
      "         Assets   Liabilities  MonthlyExpenses  \n",
      "0  26609.922544   7543.674567      4785.185082  \n",
      "1  26372.687133   9476.276665      2222.319038  \n",
      "2  15634.854619   8231.759266      4714.745650  \n",
      "3  27359.278466   9808.016725      3766.275942  \n",
      "4  35862.632655  11143.398757      4707.457711  \n",
      "\n",
      "Target variable (y):\n",
      "0    8359.978261\n",
      "1    6929.486270\n",
      "2    6311.320656\n",
      "3    4874.108572\n",
      "4    9523.801644\n",
      "Name: Target, dtype: float64\n"
     ]
    }
   ],
   "source": [
    "## Separate features (X) and target variable (y)\n",
    "X = financial_df.drop('Target', axis=1)  # Features\n",
    "y = financial_df['Target']  # Target variable\n",
    "\n",
    "# Display the features (X) DataFrame\n",
    "print(\"Features (X):\")\n",
    "print(X.head())\n",
    "\n",
    "# Display the target variable (y) Series\n",
    "print(\"\\nTarget variable (y):\")\n",
    "print(y.head())"
   ]
  },
  {
   "cell_type": "markdown",
   "metadata": {},
   "source": [
    "### With Interactions Included"
   ]
  },
  {
   "cell_type": "code",
   "execution_count": 6,
   "metadata": {},
   "outputs": [
    {
     "name": "stderr",
     "output_type": "stream",
     "text": [
      "INFO:root:Dropped feature Liabilities with p-value 0.9602872163010282\n",
      "INFO:root:Iteration 2: Current features: ['Age', 'Income', 'Savings', 'Debt', 'CreditScore', 'Assets', 'MonthlyExpenses']\n",
      "INFO:root:Dropped feature Assets with p-value 0.6417684824230647\n",
      "INFO:root:Iteration 3: Current features: ['Age', 'Income', 'Savings', 'Debt', 'CreditScore', 'MonthlyExpenses']\n",
      "INFO:root:Dropped feature MonthlyExpenses with p-value 0.38515644186354714\n",
      "INFO:root:Iteration 4: Current features: ['Age', 'Income', 'Savings', 'Debt', 'CreditScore']\n",
      "INFO:root:Dropped interaction term Age * Income with p-value 0.9917758827207849\n",
      "INFO:root:Dropped interaction term Age * Savings with p-value 0.610145390391784\n",
      "INFO:root:Dropped interaction term Age * Debt with p-value 0.5463331331649792\n",
      "INFO:root:Dropped interaction term Age * CreditScore with p-value 0.3218387082529018\n",
      "INFO:root:Dropped interaction term Income * Savings with p-value 0.01585052347050218\n",
      "INFO:root:Dropped interaction term Income * Debt with p-value 0.49846989988489143\n",
      "INFO:root:Dropped interaction term Income * CreditScore with p-value 0.346568201709456\n",
      "INFO:root:Dropped interaction term Savings * Debt with p-value 0.559873991042455\n",
      "INFO:root:Dropped interaction term Savings * CreditScore with p-value 0.9876986538896217\n",
      "INFO:root:Dropped interaction term Debt * CreditScore with p-value 0.8417246679634355\n"
     ]
    }
   ],
   "source": [
    "## With interactions included - set to True\n",
    "result, dropped_vars = fit_linear_regression(X, y, threshold_in=0.01, threshold_out=0.05, include_interactions=True, verbose=True, method='pinv')"
   ]
  },
  {
   "cell_type": "code",
   "execution_count": 7,
   "metadata": {},
   "outputs": [
    {
     "name": "stdout",
     "output_type": "stream",
     "text": [
      "Final included features: ['Age', 'Income', 'Savings', 'Debt', 'CreditScore']\n"
     ]
    }
   ],
   "source": [
    "## Print Selected features\n",
    "print(\"Final included features:\", result)"
   ]
  },
  {
   "cell_type": "code",
   "execution_count": 8,
   "metadata": {},
   "outputs": [
    {
     "name": "stdout",
     "output_type": "stream",
     "text": [
      "Dropped variables: ['Liabilities', 'Assets', 'MonthlyExpenses', 'Age * Income', 'Age * Savings', 'Age * Debt', 'Age * CreditScore', 'Income * Savings', 'Income * Debt', 'Income * CreditScore', 'Savings * Debt', 'Savings * CreditScore', 'Debt * CreditScore']\n"
     ]
    }
   ],
   "source": [
    "## Print Eliminated features\n",
    "print(\"Dropped variables:\", dropped_vars)"
   ]
  },
  {
   "cell_type": "markdown",
   "metadata": {},
   "source": [
    "### Without Interactions Included"
   ]
  },
  {
   "cell_type": "code",
   "execution_count": 9,
   "metadata": {},
   "outputs": [
    {
     "name": "stderr",
     "output_type": "stream",
     "text": [
      "INFO:root:Dropped feature Liabilities with p-value 0.9602872163010282\n",
      "INFO:root:Iteration 2: Current features: ['Age', 'Income', 'Savings', 'Debt', 'CreditScore', 'Assets', 'MonthlyExpenses']\n",
      "INFO:root:Dropped feature Assets with p-value 0.6417684824230647\n",
      "INFO:root:Iteration 3: Current features: ['Age', 'Income', 'Savings', 'Debt', 'CreditScore', 'MonthlyExpenses']\n",
      "INFO:root:Dropped feature MonthlyExpenses with p-value 0.38515644186354714\n",
      "INFO:root:Iteration 4: Current features: ['Age', 'Income', 'Savings', 'Debt', 'CreditScore']\n"
     ]
    }
   ],
   "source": [
    "## Without interactions included - set to False\n",
    "result, dropped_vars = fit_linear_regression(X, y, threshold_in=0.01, threshold_out=0.05, include_interactions=False, verbose=True,method='pinv')"
   ]
  },
  {
   "cell_type": "code",
   "execution_count": 10,
   "metadata": {},
   "outputs": [
    {
     "name": "stdout",
     "output_type": "stream",
     "text": [
      "Final included features: ['Age', 'Income', 'Savings', 'Debt', 'CreditScore']\n"
     ]
    }
   ],
   "source": [
    "## Print Selected features\n",
    "print(\"Final included features:\", result)"
   ]
  },
  {
   "cell_type": "code",
   "execution_count": 11,
   "metadata": {},
   "outputs": [
    {
     "name": "stdout",
     "output_type": "stream",
     "text": [
      "Dropped variables: ['Liabilities', 'Assets', 'MonthlyExpenses']\n"
     ]
    }
   ],
   "source": [
    "print(\"Dropped variables:\", dropped_vars)"
   ]
  }
 ],
 "metadata": {
  "kernelspec": {
   "display_name": "Python 3",
   "language": "python",
   "name": "python3"
  },
  "language_info": {
   "codemirror_mode": {
    "name": "ipython",
    "version": 3
   },
   "file_extension": ".py",
   "mimetype": "text/x-python",
   "name": "python",
   "nbconvert_exporter": "python",
   "pygments_lexer": "ipython3",
   "version": "3.12.0"
  }
 },
 "nbformat": 4,
 "nbformat_minor": 2
}
