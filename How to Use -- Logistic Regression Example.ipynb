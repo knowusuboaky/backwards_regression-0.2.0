{
 "cells": [
  {
   "cell_type": "markdown",
   "metadata": {},
   "source": [
    "# Logistic Regression Example"
   ]
  },
  {
   "cell_type": "markdown",
   "metadata": {},
   "source": [
    "## Installation"
   ]
  },
  {
   "cell_type": "markdown",
   "metadata": {},
   "source": [
    "### Package"
   ]
  },
  {
   "cell_type": "code",
   "execution_count": 12,
   "metadata": {},
   "outputs": [],
   "source": [
    "## Install Library\n",
    "#!pip install backwards_regression==0.2.0 \n",
    "#https://pypi.org/project/backwards-regression/"
   ]
  },
  {
   "cell_type": "code",
   "execution_count": 13,
   "metadata": {},
   "outputs": [],
   "source": [
    "## Load up Library\n",
    "from backwards_regression import fit_logistic_regression"
   ]
  },
  {
   "cell_type": "markdown",
   "metadata": {},
   "source": [
    "### Format of Code"
   ]
  },
  {
   "cell_type": "code",
   "execution_count": 14,
   "metadata": {},
   "outputs": [],
   "source": [
    "#result, dropped_vars = fit_logistic_regression(\n",
    "    #X,  # X: DataFrame containing predictor variables. Each column should represent a distinct predictor.\n",
    "    #y,  # y: The response variable. This is the variable you are trying to predict or explain.\n",
    "    #initial_list=[],  # initial_list: Optional. A list of column names from X that you want to start with in the model. If empty, all columns in X are used.\n",
    "    #threshold_in=0.01,  # threshold_in: The significance level for adding interaction terms. Interaction terms with p-values below this threshold will be added.\n",
    "    #threshold_out=0.05,  # threshold_out: The significance level for removing variables. Variables with p-values above this threshold will be removed during the backward elimination.\n",
    "    #include_interactions=True,  # include_interactions: If set to True, the function will consider interaction terms between predictors for inclusion in the model.\n",
    "    #verbose=True,  # verbose: If True, provides detailed logging about the function's progress and the variables being added or removed.\n",
    "    #method='pinv'  # method: The method used to solve the regression. 'pinv' uses the Moore-Penrose pseudoinverse, which is a common choice for OLS regression.\n",
    "#):\n",
    "    # Function body...\n",
    "\n",
    "#method can be\n",
    "    # 'pinv': Moore-Penrose pseudoinverse - A general, robust method suitable for most cases. It handles singular matrices well.\n",
    "    # 'qr': QR Decomposition - Good for numerical stability and efficiency, especially useful in cases of multicollinearity or when the matrix has more columns than rows.\n",
    "    # 'lstsq': Least Squares Solution - Similar to 'pinv', it provides a least squares solution, useful for overdetermined systems. It's another robust option for general use.\n",
    "    # 'cholesky': Cholesky Decomposition - Efficient and fast for positive definite matrices. Best used when the matrix is symmetric and positive definite.\n"
   ]
  },
  {
   "cell_type": "markdown",
   "metadata": {},
   "source": [
    "## Logistic Regression"
   ]
  },
  {
   "cell_type": "markdown",
   "metadata": {},
   "source": [
    "### Data Exploration"
   ]
  },
  {
   "cell_type": "code",
   "execution_count": 15,
   "metadata": {},
   "outputs": [],
   "source": [
    "## Sample Data\n",
    "\n",
    "import pandas as pd\n",
    "import numpy as np\n",
    "\n",
    "# Set a random seed for reproducibility\n",
    "np.random.seed(42)\n",
    "\n",
    "# Generate synthetic financial data for logistic regression\n",
    "def generate_financial_data_binary(n=1000):\n",
    "    # Features\n",
    "    age = np.random.normal(40, 10, n)\n",
    "    income = np.random.normal(50000, 10000, n)\n",
    "    savings = np.random.normal(20000, 5000, n)\n",
    "    debt = np.random.normal(10000, 3000, n)\n",
    "    credit_score = np.random.normal(700, 50, n)\n",
    "\n",
    "    # Additional variables\n",
    "    assets = np.random.normal(30000, 8000, n)\n",
    "    liabilities = np.random.normal(12000, 4000, n)\n",
    "    monthly_expenses = np.random.normal(4000, 1000, n)\n",
    "\n",
    "    # Generate a binary target variable indicating good (1) or not good (0) financial risk\n",
    "    target = (0.5 * age + 0.2 * income - 0.3 * savings + 0.1 * debt + 0.15 * credit_score\n",
    "              + np.random.normal(0, 5, n)) > 0\n",
    "\n",
    "    # Create DataFrame\n",
    "    data = pd.DataFrame({\n",
    "        'Age': age,\n",
    "        'Income': income,\n",
    "        'Savings': savings,\n",
    "        'Debt': debt,\n",
    "        'CreditScore': credit_score,\n",
    "        'Assets': assets,\n",
    "        'Liabilities': liabilities,\n",
    "        'MonthlyExpenses': monthly_expenses,\n",
    "        'Target': target.astype(int)  # Convert to integer (0 or 1)\n",
    "    })\n",
    "\n",
    "    return data\n",
    "\n",
    "# Generate financial dataset for logistic regression\n",
    "financial_df = generate_financial_data_binary()"
   ]
  },
  {
   "cell_type": "code",
   "execution_count": 16,
   "metadata": {},
   "outputs": [
    {
     "name": "stdout",
     "output_type": "stream",
     "text": [
      "Features (X):\n",
      "         Age        Income       Savings          Debt  CreditScore  \\\n",
      "0  44.967142  63993.554366  16624.108625   4276.577326   656.825320   \n",
      "1  38.617357  59246.336829  19277.406646   7418.844968   698.439826   \n",
      "2  46.476885  50596.303699  16037.900395   8759.183400   700.900844   \n",
      "3  55.230299  43530.632223  18460.192352  15663.062972   723.631517   \n",
      "4  37.658466  56982.233136  10531.926665  11669.659374   631.657082   \n",
      "\n",
      "         Assets   Liabilities  MonthlyExpenses  \n",
      "0  26609.922544   7543.674567      4785.185082  \n",
      "1  26372.687133   9476.276665      2222.319038  \n",
      "2  15634.854619   8231.759266      4714.745650  \n",
      "3  27359.278466   9808.016725      3766.275942  \n",
      "4  35862.632655  11143.398757      4707.457711  \n",
      "\n",
      "Binary target variable (y):\n",
      "0    1\n",
      "1    1\n",
      "2    1\n",
      "3    1\n",
      "4    1\n",
      "Name: Target, dtype: int32\n"
     ]
    }
   ],
   "source": [
    "## Separate features (X) and binary target variable (y)\n",
    "X = financial_df.drop('Target', axis=1)  # Features\n",
    "y = financial_df['Target']  # Binary target variable\n",
    "\n",
    "# Display the features (X) DataFrame\n",
    "print(\"Features (X):\")\n",
    "print(X.head())\n",
    "\n",
    "# Display the binary target variable (y) Series\n",
    "print(\"\\nBinary target variable (y):\")\n",
    "print(y.head())"
   ]
  },
  {
   "cell_type": "markdown",
   "metadata": {},
   "source": [
    "### With Interactions Included"
   ]
  },
  {
   "cell_type": "code",
   "execution_count": 17,
   "metadata": {},
   "outputs": [
    {
     "name": "stderr",
     "output_type": "stream",
     "text": [
      "INFO:root:Dropped feature CreditScore with p-value 0.9831939481100389\n",
      "INFO:root:Iteration 2: Current features: ['Age', 'Income', 'Savings', 'Debt', 'Assets', 'Liabilities', 'MonthlyExpenses']\n",
      "INFO:root:Dropped feature Age with p-value 0.7546799739975825\n",
      "INFO:root:Iteration 3: Current features: ['Income', 'Savings', 'Debt', 'Assets', 'Liabilities', 'MonthlyExpenses']\n",
      "INFO:root:Dropped feature MonthlyExpenses with p-value 0.9867344468142598\n",
      "INFO:root:Iteration 4: Current features: ['Income', 'Savings', 'Debt', 'Assets', 'Liabilities']\n",
      "INFO:root:Dropped feature Liabilities with p-value 0.9322638162546516\n",
      "INFO:root:Iteration 5: Current features: ['Income', 'Savings', 'Debt', 'Assets']\n",
      "INFO:root:Dropped feature Assets with p-value 0.9963423366516404\n",
      "INFO:root:Iteration 6: Current features: ['Income', 'Savings', 'Debt']\n",
      "INFO:root:Dropped feature Debt with p-value 0.9987833843691373\n",
      "INFO:root:Iteration 7: Current features: ['Income', 'Savings']\n",
      "INFO:root:Dropped interaction term Income * Savings with p-value 1.0\n"
     ]
    },
    {
     "name": "stdout",
     "output_type": "stream",
     "text": [
      "         Current function value: 0.000243\n",
      "         Iterations: 35\n",
      "         Function evaluations: 55\n",
      "         Gradient evaluations: 45\n",
      "         Current function value: 0.000088\n",
      "         Iterations: 35\n",
      "         Function evaluations: 55\n",
      "         Gradient evaluations: 45\n",
      "         Current function value: 0.000015\n",
      "         Iterations: 35\n",
      "         Function evaluations: 55\n",
      "         Gradient evaluations: 45\n",
      "         Current function value: 0.000001\n",
      "         Iterations: 35\n",
      "         Function evaluations: 59\n",
      "         Gradient evaluations: 49\n",
      "         Current function value: 0.000032\n",
      "         Iterations: 35\n",
      "         Function evaluations: 58\n",
      "         Gradient evaluations: 48\n",
      "         Current function value: 0.000001\n",
      "         Iterations: 35\n",
      "         Function evaluations: 50\n",
      "         Gradient evaluations: 40\n",
      "         Current function value: 0.007959\n",
      "         Iterations: 35\n",
      "         Function evaluations: 50\n",
      "         Gradient evaluations: 40\n",
      "         Current function value: 0.693147\n",
      "         Iterations: 0\n",
      "         Function evaluations: 15\n",
      "         Gradient evaluations: 3\n"
     ]
    }
   ],
   "source": [
    "## With interactions included - set to True\n",
    "result, dropped_vars = fit_logistic_regression(X, y, threshold_in=0.01, threshold_out=0.05, include_interactions=True, verbose=True, method='bfgs')"
   ]
  },
  {
   "cell_type": "code",
   "execution_count": 18,
   "metadata": {},
   "outputs": [
    {
     "name": "stdout",
     "output_type": "stream",
     "text": [
      "Final included features: ['Income', 'Savings']\n"
     ]
    }
   ],
   "source": [
    "## Print Selected features\n",
    "print(\"Final included features:\", result)"
   ]
  },
  {
   "cell_type": "code",
   "execution_count": 19,
   "metadata": {},
   "outputs": [
    {
     "name": "stdout",
     "output_type": "stream",
     "text": [
      "Dropped variables: ['CreditScore', 'Age', 'MonthlyExpenses', 'Liabilities', 'Assets', 'Debt', 'Income * Savings']\n"
     ]
    }
   ],
   "source": [
    "## Print Eliminated features\n",
    "print(\"Dropped variables:\", dropped_vars)"
   ]
  },
  {
   "cell_type": "markdown",
   "metadata": {},
   "source": [
    "### Without Interactions Included"
   ]
  },
  {
   "cell_type": "code",
   "execution_count": 20,
   "metadata": {},
   "outputs": [
    {
     "name": "stderr",
     "output_type": "stream",
     "text": [
      "INFO:root:Dropped feature CreditScore with p-value 0.9831939481100389\n",
      "INFO:root:Iteration 2: Current features: ['Age', 'Income', 'Savings', 'Debt', 'Assets', 'Liabilities', 'MonthlyExpenses']\n",
      "INFO:root:Dropped feature Age with p-value 0.7546799739975825\n",
      "INFO:root:Iteration 3: Current features: ['Income', 'Savings', 'Debt', 'Assets', 'Liabilities', 'MonthlyExpenses']\n",
      "INFO:root:Dropped feature MonthlyExpenses with p-value 0.9867344468142598\n",
      "INFO:root:Iteration 4: Current features: ['Income', 'Savings', 'Debt', 'Assets', 'Liabilities']\n"
     ]
    },
    {
     "name": "stdout",
     "output_type": "stream",
     "text": [
      "         Current function value: 0.000243\n",
      "         Iterations: 35\n",
      "         Function evaluations: 55\n",
      "         Gradient evaluations: 45\n",
      "         Current function value: 0.000088\n",
      "         Iterations: 35\n",
      "         Function evaluations: 55\n",
      "         Gradient evaluations: 45\n",
      "         Current function value: 0.000015\n",
      "         Iterations: 35\n",
      "         Function evaluations: 55\n",
      "         Gradient evaluations: 45\n",
      "         Current function value: 0.000001\n",
      "         Iterations: 35\n",
      "         Function evaluations: 59\n",
      "         Gradient evaluations: 49\n"
     ]
    },
    {
     "name": "stderr",
     "output_type": "stream",
     "text": [
      "INFO:root:Dropped feature Liabilities with p-value 0.9322638162546516\n",
      "INFO:root:Iteration 5: Current features: ['Income', 'Savings', 'Debt', 'Assets']\n"
     ]
    },
    {
     "name": "stdout",
     "output_type": "stream",
     "text": [
      "         Current function value: 0.000032"
     ]
    },
    {
     "name": "stderr",
     "output_type": "stream",
     "text": [
      "INFO:root:Dropped feature Assets with p-value 0.9963423366516404\n",
      "INFO:root:Iteration 6: Current features: ['Income', 'Savings', 'Debt']\n",
      "INFO:root:Dropped feature Debt with p-value 0.9987833843691373\n",
      "INFO:root:Iteration 7: Current features: ['Income', 'Savings']\n"
     ]
    },
    {
     "name": "stdout",
     "output_type": "stream",
     "text": [
      "\n",
      "         Iterations: 35\n",
      "         Function evaluations: 58\n",
      "         Gradient evaluations: 48\n",
      "         Current function value: 0.000001\n",
      "         Iterations: 35\n",
      "         Function evaluations: 50\n",
      "         Gradient evaluations: 40\n",
      "         Current function value: 0.007959\n",
      "         Iterations: 35\n",
      "         Function evaluations: 50\n",
      "         Gradient evaluations: 40\n"
     ]
    }
   ],
   "source": [
    "## Without interactions included - set to False\n",
    "result, dropped_vars = fit_logistic_regression(X, y, threshold_in=0.01, threshold_out=0.05, include_interactions=False, verbose=True, method='bfgs')"
   ]
  },
  {
   "cell_type": "code",
   "execution_count": 21,
   "metadata": {},
   "outputs": [
    {
     "name": "stdout",
     "output_type": "stream",
     "text": [
      "Final included features: ['Income', 'Savings']\n"
     ]
    }
   ],
   "source": [
    "## Print Selected features\n",
    "print(\"Final included features:\", result)"
   ]
  },
  {
   "cell_type": "code",
   "execution_count": 22,
   "metadata": {},
   "outputs": [
    {
     "name": "stdout",
     "output_type": "stream",
     "text": [
      "Dropped variables: ['CreditScore', 'Age', 'MonthlyExpenses', 'Liabilities', 'Assets', 'Debt']\n"
     ]
    }
   ],
   "source": [
    "print(\"Dropped variables:\", dropped_vars)"
   ]
  }
 ],
 "metadata": {
  "kernelspec": {
   "display_name": "Python 3",
   "language": "python",
   "name": "python3"
  },
  "language_info": {
   "codemirror_mode": {
    "name": "ipython",
    "version": 3
   },
   "file_extension": ".py",
   "mimetype": "text/x-python",
   "name": "python",
   "nbconvert_exporter": "python",
   "pygments_lexer": "ipython3",
   "version": "3.12.0"
  }
 },
 "nbformat": 4,
 "nbformat_minor": 2
}
